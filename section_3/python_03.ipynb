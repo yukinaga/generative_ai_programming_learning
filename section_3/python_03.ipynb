{
  "nbformat": 4,
  "nbformat_minor": 0,
  "metadata": {
    "colab": {
      "provenance": [],
      "authorship_tag": "ABX9TyN6Cl/Sm1lKGds8cGiXFzOG",
      "include_colab_link": true
    },
    "kernelspec": {
      "name": "python3",
      "display_name": "Python 3"
    },
    "language_info": {
      "name": "python"
    }
  },
  "cells": [
    {
      "cell_type": "markdown",
      "metadata": {
        "id": "view-in-github",
        "colab_type": "text"
      },
      "source": [
        "<a href=\"https://colab.research.google.com/github/yukinaga/generative_ai_programming_learning/blob/main/section_3/python_03.ipynb\" target=\"_parent\"><img src=\"https://colab.research.google.com/assets/colab-badge.svg\" alt=\"Open In Colab\"/></a>"
      ]
    },
    {
      "cell_type": "code",
      "execution_count": null,
      "metadata": {
        "id": "nkHWAVObfZqI",
        "colab": {
          "base_uri": "https://localhost:8080/",
          "height": 198
        },
        "outputId": "26a9a581-8675-4905-967e-863642062050"
      },
      "outputs": [
        {
          "output_type": "error",
          "ename": "TypeError",
          "evalue": "calculate_average() takes 1 positional argument but 3 were given",
          "traceback": [
            "\u001b[0;31m---------------------------------------------------------------------------\u001b[0m",
            "\u001b[0;31mTypeError\u001b[0m                                 Traceback (most recent call last)",
            "\u001b[0;32m<ipython-input-2-b78a6130782e>\u001b[0m in \u001b[0;36m<cell line: 8>\u001b[0;34m()\u001b[0m\n\u001b[1;32m      6\u001b[0m     \u001b[0;32mreturn\u001b[0m \u001b[0maverage\u001b[0m\u001b[0;34m\u001b[0m\u001b[0;34m\u001b[0m\u001b[0m\n\u001b[1;32m      7\u001b[0m \u001b[0;34m\u001b[0m\u001b[0m\n\u001b[0;32m----> 8\u001b[0;31m \u001b[0mresult\u001b[0m \u001b[0;34m=\u001b[0m \u001b[0mcalculate_average\u001b[0m\u001b[0;34m(\u001b[0m\u001b[0;36m10\u001b[0m\u001b[0;34m,\u001b[0m \u001b[0;36m20\u001b[0m\u001b[0;34m,\u001b[0m \u001b[0;36m30\u001b[0m\u001b[0;34m)\u001b[0m\u001b[0;34m\u001b[0m\u001b[0;34m\u001b[0m\u001b[0m\n\u001b[0m\u001b[1;32m      9\u001b[0m \u001b[0mprint\u001b[0m\u001b[0;34m(\u001b[0m\u001b[0mresult\u001b[0m\u001b[0;34m)\u001b[0m\u001b[0;34m\u001b[0m\u001b[0;34m\u001b[0m\u001b[0m\n",
            "\u001b[0;31mTypeError\u001b[0m: calculate_average() takes 1 positional argument but 3 were given"
          ]
        }
      ],
      "source": [
        "def calculate_average(numbers):\n",
        "    sum = 0\n",
        "    for number in numbers:\n",
        "        sum += number\n",
        "    average = sum / len(numbers)\n",
        "    return average\n",
        "\n",
        "result = calculate_average(10, 20, 30)\n",
        "print(result)"
      ]
    },
    {
      "cell_type": "code",
      "source": [
        "def calculate_average(numbers):\n",
        "    sum = 0\n",
        "    for number in numbers:\n",
        "        sum += number\n",
        "    average = sum / len(numbers)\n",
        "    return average\n",
        "\n",
        "# 数値をリストとして渡す\n",
        "result = calculate_average([10, 20, 30])\n",
        "print(result)"
      ],
      "metadata": {
        "colab": {
          "base_uri": "https://localhost:8080/"
        },
        "id": "94lj0cIQvY2y",
        "outputId": "626aff27-dd99-41d0-b98b-652e436d6388"
      },
      "execution_count": null,
      "outputs": [
        {
          "output_type": "stream",
          "name": "stdout",
          "text": [
            "20.0\n"
          ]
        }
      ]
    },
    {
      "cell_type": "code",
      "source": [
        "def calculate_average(*numbers):\n",
        "    sum = 0\n",
        "    for number in numbers:\n",
        "        sum += number\n",
        "    average = sum / len(numbers)\n",
        "    return average\n",
        "\n",
        "# 個別の引数を直接関数に渡す\n",
        "result = calculate_average(10, 20, 30)\n",
        "print(result)"
      ],
      "metadata": {
        "colab": {
          "base_uri": "https://localhost:8080/"
        },
        "id": "nyl3lL4jv1Hi",
        "outputId": "eabf0934-d821-4b3a-c510-3b40443f57f2"
      },
      "execution_count": null,
      "outputs": [
        {
          "output_type": "stream",
          "name": "stdout",
          "text": [
            "20.0\n"
          ]
        }
      ]
    },
    {
      "cell_type": "code",
      "source": [
        "def f(x):\n",
        "  return x**2 + 2*x + 1"
      ],
      "metadata": {
        "id": "JJYtm19cgMSC"
      },
      "execution_count": null,
      "outputs": []
    },
    {
      "cell_type": "code",
      "source": [
        "def process_data(data):\n",
        "  result = []\n",
        "  for item in data:\n",
        "    # 複雑な処理\n",
        "    processed_item = process_item(item)\n",
        "    result.append(processed_item)\n",
        "  return result"
      ],
      "metadata": {
        "id": "p3hTY69sgbeX"
      },
      "execution_count": null,
      "outputs": []
    },
    {
      "cell_type": "code",
      "source": [
        "def find_max(numbers):\n",
        "  max_num = numbers[0]\n",
        "  for num in numbers:\n",
        "    if num > max_num:\n",
        "      max_num = num\n",
        "  return max_num"
      ],
      "metadata": {
        "id": "BbNZ3iBRhEXz"
      },
      "execution_count": null,
      "outputs": []
    },
    {
      "cell_type": "code",
      "source": [
        "def find_max(numbers):\n",
        "    return max(numbers)\n",
        "\n",
        "find_max([1, 2, 3])"
      ],
      "metadata": {
        "colab": {
          "base_uri": "https://localhost:8080/"
        },
        "id": "cUinOhGs1Di2",
        "outputId": "0fbea0b0-07ff-495b-bb0c-ccb271b3aaa6"
      },
      "execution_count": null,
      "outputs": [
        {
          "output_type": "execute_result",
          "data": {
            "text/plain": [
              "3"
            ]
          },
          "metadata": {},
          "execution_count": 7
        }
      ]
    },
    {
      "cell_type": "code",
      "source": [
        "import numpy as np\n",
        "\n",
        "greeting = \"\"\n",
        "rand_value = np.random.rand()\n",
        "\n",
        "if rand_value < 0.5:\n",
        "    greeting = \"Good morning!\"\n",
        "    print(greeting)\n",
        "else:\n",
        "    greeting = \"Hello!\"\n",
        "    print(greeting)"
      ],
      "metadata": {
        "id": "nWyKaPE_iZBi",
        "colab": {
          "base_uri": "https://localhost:8080/"
        },
        "outputId": "209cb11f-1a56-4462-d11b-71e2a29723cb"
      },
      "execution_count": null,
      "outputs": [
        {
          "output_type": "stream",
          "name": "stdout",
          "text": [
            "Hello!\n"
          ]
        }
      ]
    }
  ]
}