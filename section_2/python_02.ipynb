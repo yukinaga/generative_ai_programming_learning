{
  "nbformat": 4,
  "nbformat_minor": 0,
  "metadata": {
    "colab": {
      "provenance": [],
      "authorship_tag": "ABX9TyO0r63ycnAdQSN939hL/PdP",
      "include_colab_link": true
    },
    "kernelspec": {
      "name": "python3",
      "display_name": "Python 3"
    },
    "language_info": {
      "name": "python"
    }
  },
  "cells": [
    {
      "cell_type": "markdown",
      "metadata": {
        "id": "view-in-github",
        "colab_type": "text"
      },
      "source": [
        "<a href=\"https://colab.research.google.com/github/yukinaga/generative_ai_programming_learning/blob/main/section_2/python_02.ipynb\" target=\"_parent\"><img src=\"https://colab.research.google.com/assets/colab-badge.svg\" alt=\"Open In Colab\"/></a>"
      ]
    },
    {
      "cell_type": "code",
      "execution_count": null,
      "metadata": {
        "colab": {
          "base_uri": "https://localhost:8080/"
        },
        "id": "yUjF729Ax4on",
        "outputId": "7b34b518-cdbd-4410-cde3-99e3cd060166"
      },
      "outputs": [
        {
          "output_type": "stream",
          "name": "stdout",
          "text": [
            "整数: 1.5\n",
            "浮動小数点数: 3.14159\n",
            "挨拶: Hello, Python world!\n",
            "学習中か？: False\n"
          ]
        }
      ],
      "source": [
        "# 数値の変数を定義\n",
        "number = 15\n",
        "pi = 3.14159\n",
        "number = 1.5\n",
        "\n",
        "# 文字列の変数を定義\n",
        "greeting = \"Hello, Python world!\"\n",
        "\n",
        "# ブール値の変数を定義\n",
        "is_learning = False\n",
        "\n",
        "# 変数の内容を出力\n",
        "print(\"整数:\", number)\n",
        "print(\"浮動小数点数:\", pi)\n",
        "print(\"挨拶:\", greeting)\n",
        "print(\"学習中か？:\", is_learning)"
      ]
    },
    {
      "cell_type": "code",
      "source": [
        "number = int(\"123\")"
      ],
      "metadata": {
        "id": "Uzg3CoWLysOo"
      },
      "execution_count": null,
      "outputs": []
    },
    {
      "cell_type": "code",
      "source": [
        "import random\n",
        "\n",
        "def get_computer_choice():\n",
        "    \"\"\"コンピュータの選択をランダムに決定する関数\"\"\"\n",
        "    return random.choice(['協力', '争う'])\n",
        "\n",
        "def get_player_choice():\n",
        "    \"\"\"プレイヤーに入力を求め、選択を受け取る関数\"\"\"\n",
        "    choice = input(\"協力しますか？争いますか？（協力/争う）: \")\n",
        "    while choice not in ['協力', '争う']:\n",
        "        choice = input(\"無効な入力です。協力または争うを正確に入力してください（協力/争う）: \")\n",
        "    return choice\n",
        "\n",
        "def determine_winner(player, computer):\n",
        "    \"\"\"プレイヤーとコンピュータの選択を比較し、それぞれのスコアを計算する関数\"\"\"\n",
        "    if player == '協力' and computer == '協力':\n",
        "        return 2, 2\n",
        "    elif player == '協力' and computer == '争う':\n",
        "        return 0, 3\n",
        "    elif player == '争う' and computer == '協力':\n",
        "        return 3, 0\n",
        "    else:\n",
        "        return 1, 1\n",
        "\n",
        "def game():\n",
        "    \"\"\"ゲームのメインループを実行する関数\"\"\"\n",
        "    player_score = 0\n",
        "    computer_score = 0\n",
        "    rounds = 5\n",
        "\n",
        "    for _ in range(rounds):\n",
        "        player_choice = get_player_choice()\n",
        "        computer_choice = get_computer_choice()\n",
        "        print(f\"あなたの選択: {player_choice}, コンピュータの選択: {computer_choice}\")\n",
        "\n",
        "        player_points, computer_points = determine_winner(player_choice, computer_choice)\n",
        "        player_score += player_points\n",
        "        computer_score += computer_points\n",
        "\n",
        "        print(f\"このラウンドの結果: あなたの得点 {player_points}, コンピュータの得点 {computer_points}\")\n",
        "        print(f\"現在のスコア: あなた {player_score} - コンピュータ {computer_score}\")\n",
        "\n",
        "    if player_score > computer_score:\n",
        "        print(\"おめでとうございます！あなたの勝ちです！\")\n",
        "    elif player_score < computer_score:\n",
        "        print(\"残念、コンピュータの勝ちです。\")\n",
        "    else:\n",
        "        print(\"引き分けです！\")\n",
        "\n",
        "if __name__ == \"__main__\":\n",
        "    game()\n"
      ],
      "metadata": {
        "colab": {
          "base_uri": "https://localhost:8080/"
        },
        "id": "3_NmG-Oszz7-",
        "outputId": "80e32670-daee-483d-946c-615a5565f251"
      },
      "execution_count": null,
      "outputs": [
        {
          "output_type": "stream",
          "name": "stdout",
          "text": [
            "協力しますか？争いますか？（協力/争う）: 協力\n",
            "あなたの選択: 協力, コンピュータの選択: 協力\n",
            "このラウンドの結果: あなたの得点 2, コンピュータの得点 2\n",
            "現在のスコア: あなた 2 - コンピュータ 2\n",
            "協力しますか？争いますか？（協力/争う）: 協力\n",
            "あなたの選択: 協力, コンピュータの選択: 争う\n",
            "このラウンドの結果: あなたの得点 0, コンピュータの得点 3\n",
            "現在のスコア: あなた 2 - コンピュータ 5\n",
            "協力しますか？争いますか？（協力/争う）: 争う\n",
            "あなたの選択: 争う, コンピュータの選択: 協力\n",
            "このラウンドの結果: あなたの得点 3, コンピュータの得点 0\n",
            "現在のスコア: あなた 5 - コンピュータ 5\n",
            "協力しますか？争いますか？（協力/争う）: 争う\n",
            "あなたの選択: 争う, コンピュータの選択: 争う\n",
            "このラウンドの結果: あなたの得点 1, コンピュータの得点 1\n",
            "現在のスコア: あなた 6 - コンピュータ 6\n",
            "協力しますか？争いますか？（協力/争う）: 争う\n",
            "あなたの選択: 争う, コンピュータの選択: 協力\n",
            "このラウンドの結果: あなたの得点 3, コンピュータの得点 0\n",
            "現在のスコア: あなた 9 - コンピュータ 6\n",
            "おめでとうございます！あなたの勝ちです！\n"
          ]
        }
      ]
    },
    {
      "cell_type": "code",
      "source": [
        "# 必要なライブラリをインポートする\n",
        "import torch\n",
        "import torchvision\n",
        "import torchvision.transforms as transforms\n",
        "from torch import nn, optim\n",
        "from torch.utils.data import DataLoader\n",
        "import matplotlib.pyplot as plt\n",
        "\n",
        "# GPUの使用が可能かどうかをチェックする\n",
        "device = torch.device(\"cuda\" if torch.cuda.is_available() else \"cpu\")\n",
        "\n",
        "# MNISTデータセットをダウンロードし、トレーニングとテスト用に準備する\n",
        "transform = transforms.Compose([\n",
        "    transforms.ToTensor(),  # PIL Imageまたはnumpy.ndarrayをTensorに変換する\n",
        "    transforms.Normalize((0.5,), (0.5,))  # データの正規化を行う\n",
        "])\n",
        "\n",
        "trainset = torchvision.datasets.MNIST(root='./data', train=True, download=True, transform=transform)\n",
        "trainloader = DataLoader(trainset, batch_size=64, shuffle=True)\n",
        "\n",
        "testset = torchvision.datasets.MNIST(root='./data', train=False, download=True, transform=transform)\n",
        "testloader = DataLoader(testset, batch_size=64, shuffle=False)\n",
        "\n",
        "# 手書き文字認識のためのニューラルネットワークモデルを定義する\n",
        "class NeuralNet(nn.Module):\n",
        "    def __init__(self):\n",
        "        super(NeuralNet, self).__init__()\n",
        "        self.flatten = nn.Flatten()  # 画像を1次元ベクトルに変換する\n",
        "        self.linear_relu_stack = nn.Sequential(\n",
        "            nn.Linear(28*28, 512),\n",
        "            nn.ReLU(),\n",
        "            nn.Linear(512, 512),\n",
        "            nn.ReLU(),\n",
        "            nn.Linear(512, 10)\n",
        "        )\n",
        "\n",
        "    def forward(self, x):\n",
        "        x = self.flatten(x)\n",
        "        logits = self.linear_relu_stack(x)\n",
        "        return logits\n",
        "\n",
        "# モデルと損失関数、オプティマイザを設定する\n",
        "model = NeuralNet().to(device)\n",
        "criterion = nn.CrossEntropyLoss()\n",
        "optimizer = optim.SGD(model.parameters(), lr=0.01, momentum=0.9)\n",
        "\n",
        "# ネットワークのトレーニングを行う関数\n",
        "def train(model, trainloader, criterion, optimizer, device):\n",
        "    model.train()\n",
        "    for batch, (images, labels) in enumerate(trainloader):\n",
        "        images, labels = images.to(device), labels.to(device)\n",
        "        optimizer.zero_grad()\n",
        "        outputs = model(images)\n",
        "        loss = criterion(outputs, labels)\n",
        "        loss.backward()\n",
        "        optimizer.step()\n",
        "\n",
        "# テストデータでネットワークを評価する関数\n",
        "def evaluate(model, testloader, device):\n",
        "    model.eval()\n",
        "    total = 0\n",
        "    correct = 0\n",
        "    with torch.no_grad():\n",
        "        for images, labels in testloader:\n",
        "            images, labels = images.to(device), labels.to(device)\n",
        "            outputs = model(images)\n",
        "            _, predicted = torch.max(outputs.data, 1)\n",
        "            total += labels.size(0)\n",
        "            correct += (predicted == labels).sum().item()\n",
        "    accuracy = 100 * correct / total\n",
        "    return accuracy\n",
        "\n",
        "# モデルのトレーニング\n",
        "train(model, trainloader, criterion, optimizer, device)\n",
        "\n",
        "# モデルの評価\n",
        "accuracy = evaluate(model, testloader, device)\n",
        "print(f'Accuracy: {accuracy}%')\n"
      ],
      "metadata": {
        "colab": {
          "base_uri": "https://localhost:8080/"
        },
        "id": "5xPKPhHk0uY_",
        "outputId": "345ae0d9-662d-4955-a1f8-14aa613ee564"
      },
      "execution_count": null,
      "outputs": [
        {
          "output_type": "stream",
          "name": "stdout",
          "text": [
            "Downloading http://yann.lecun.com/exdb/mnist/train-images-idx3-ubyte.gz\n",
            "Downloading http://yann.lecun.com/exdb/mnist/train-images-idx3-ubyte.gz to ./data/MNIST/raw/train-images-idx3-ubyte.gz\n"
          ]
        },
        {
          "output_type": "stream",
          "name": "stderr",
          "text": [
            "100%|██████████| 9912422/9912422 [00:00<00:00, 109145519.39it/s]\n"
          ]
        },
        {
          "output_type": "stream",
          "name": "stdout",
          "text": [
            "Extracting ./data/MNIST/raw/train-images-idx3-ubyte.gz to ./data/MNIST/raw\n",
            "\n",
            "Downloading http://yann.lecun.com/exdb/mnist/train-labels-idx1-ubyte.gz\n",
            "Downloading http://yann.lecun.com/exdb/mnist/train-labels-idx1-ubyte.gz to ./data/MNIST/raw/train-labels-idx1-ubyte.gz\n"
          ]
        },
        {
          "output_type": "stream",
          "name": "stderr",
          "text": [
            "100%|██████████| 28881/28881 [00:00<00:00, 48531928.62it/s]"
          ]
        },
        {
          "output_type": "stream",
          "name": "stdout",
          "text": [
            "Extracting ./data/MNIST/raw/train-labels-idx1-ubyte.gz to ./data/MNIST/raw\n",
            "\n",
            "Downloading http://yann.lecun.com/exdb/mnist/t10k-images-idx3-ubyte.gz\n",
            "Downloading http://yann.lecun.com/exdb/mnist/t10k-images-idx3-ubyte.gz to ./data/MNIST/raw/t10k-images-idx3-ubyte.gz\n"
          ]
        },
        {
          "output_type": "stream",
          "name": "stderr",
          "text": [
            "\n",
            "100%|██████████| 1648877/1648877 [00:00<00:00, 32034477.89it/s]\n"
          ]
        },
        {
          "output_type": "stream",
          "name": "stdout",
          "text": [
            "Extracting ./data/MNIST/raw/t10k-images-idx3-ubyte.gz to ./data/MNIST/raw\n",
            "\n",
            "Downloading http://yann.lecun.com/exdb/mnist/t10k-labels-idx1-ubyte.gz\n",
            "Downloading http://yann.lecun.com/exdb/mnist/t10k-labels-idx1-ubyte.gz to ./data/MNIST/raw/t10k-labels-idx1-ubyte.gz\n"
          ]
        },
        {
          "output_type": "stream",
          "name": "stderr",
          "text": [
            "100%|██████████| 4542/4542 [00:00<00:00, 12259027.52it/s]\n"
          ]
        },
        {
          "output_type": "stream",
          "name": "stdout",
          "text": [
            "Extracting ./data/MNIST/raw/t10k-labels-idx1-ubyte.gz to ./data/MNIST/raw\n",
            "\n",
            "Accuracy: 94.57%\n"
          ]
        }
      ]
    },
    {
      "cell_type": "code",
      "source": [
        "# PyTorchとその他の必要なライブラリをインポート\n",
        "import torch\n",
        "import torchvision\n",
        "import torchvision.transforms as transforms\n",
        "from torch import nn\n",
        "from torch import optim\n",
        "import torch.nn.functional as F\n",
        "\n",
        "# GPUが使える場合はGPUを使う\n",
        "device = torch.device(\"cuda\" if torch.cuda.is_available() else \"cpu\")\n",
        "\n",
        "# 画像の前処理を定義\n",
        "transform = transforms.Compose(\n",
        "    [transforms.ToTensor(),\n",
        "     transforms.Normalize((0.5, 0.5, 0.5), (0.5, 0.5, 0.5))])\n",
        "\n",
        "# 訓練データ\n",
        "trainset = torchvision.datasets.CIFAR10(root='./data', train=True,\n",
        "                                        download=True, transform=transform)\n",
        "trainloader = torch.utils.data.DataLoader(trainset, batch_size=4,\n",
        "                                          shuffle=True, num_workers=2)\n",
        "\n",
        "# テストデータ\n",
        "testset = torchvision.datasets.CIFAR10(root='./data', train=False,\n",
        "                                       download=True, transform=transform)\n",
        "testloader = torch.utils.data.DataLoader(testset, batch_size=4,\n",
        "                                         shuffle=False, num_workers=2)\n",
        "\n",
        "# クラス名\n",
        "classes = ('plane', 'car', 'bird', 'cat', 'deer', 'dog', 'frog', 'horse', 'ship', 'truck')\n",
        "\n",
        "class Net(nn.Module):\n",
        "    def __init__(self):\n",
        "        super(Net, self).__init__()\n",
        "        self.conv1 = nn.Conv2d(3, 6, 5)\n",
        "        self.pool = nn.MaxPool2d(2, 2)\n",
        "        self.conv2 = nn.Conv2d(6, 16, 5)\n",
        "        self.fc1 = nn.Linear(16 * 5 * 5, 120)\n",
        "        self.fc2 = nn.Linear(120, 84)\n",
        "        self.fc3 = nn.Linear(84, 10)\n",
        "\n",
        "    def forward(self, x):\n",
        "        x = self.pool(F.relu(self.conv1(x)))\n",
        "        x = self.pool(F.relu(self.conv2(x)))\n",
        "        x = x.view(-1, 16 * 5 * 5)\n",
        "        x = F.relu(self.fc1(x))\n",
        "        x = F.relu(self.fc2(x))\n",
        "        x = self.fc3(x)\n",
        "        return x\n",
        "\n",
        "net = Net().to(device)\n",
        "\n",
        "# 損失関数とオプティマイザー\n",
        "criterion = nn.CrossEntropyLoss()\n",
        "optimizer = optim.SGD(net.parameters(), lr=0.001, momentum=0.9)\n",
        "\n",
        "# モデルの訓練\n",
        "for epoch in range(10):  # データセットを複数回繰り返して学習します\n",
        "    running_loss = 0.0\n",
        "    for i, data in enumerate(trainloader, 0):\n",
        "        inputs, labels = data\n",
        "        inputs, labels = inputs.to(device), labels.to(device)\n",
        "\n",
        "        optimizer.zero_grad()\n",
        "\n",
        "        outputs = net(inputs)\n",
        "        loss = criterion(outputs, labels)\n",
        "        loss.backward()\n",
        "        optimizer.step()\n",
        "\n",
        "        running_loss += loss.item()\n",
        "        if i % 2000 == 1999:    # print every 2000 mini-batches\n",
        "            print(f'[{epoch + 1}, {i + 1:5d}] loss: {running_loss / 2000:.3f}')\n",
        "            running_loss = 0.0"
      ],
      "metadata": {
        "colab": {
          "base_uri": "https://localhost:8080/"
        },
        "id": "k9BmZdfxszqJ",
        "outputId": "52462567-25b6-443c-9932-220f031e577c"
      },
      "execution_count": null,
      "outputs": [
        {
          "output_type": "stream",
          "name": "stdout",
          "text": [
            "Downloading https://www.cs.toronto.edu/~kriz/cifar-10-python.tar.gz to ./data/cifar-10-python.tar.gz\n"
          ]
        },
        {
          "output_type": "stream",
          "name": "stderr",
          "text": [
            "100%|██████████| 170498071/170498071 [00:04<00:00, 41760618.98it/s]\n"
          ]
        },
        {
          "output_type": "stream",
          "name": "stdout",
          "text": [
            "Extracting ./data/cifar-10-python.tar.gz to ./data\n",
            "Files already downloaded and verified\n"
          ]
        },
        {
          "output_type": "stream",
          "name": "stderr",
          "text": [
            "/usr/lib/python3.10/multiprocessing/popen_fork.py:66: RuntimeWarning: os.fork() was called. os.fork() is incompatible with multithreaded code, and JAX is multithreaded, so this will likely lead to a deadlock.\n",
            "  self.pid = os.fork()\n"
          ]
        },
        {
          "output_type": "stream",
          "name": "stdout",
          "text": [
            "[1,  2000] loss: 2.260\n",
            "[1,  4000] loss: 1.953\n",
            "[1,  6000] loss: 1.700\n",
            "[1,  8000] loss: 1.603\n",
            "[1, 10000] loss: 1.550\n",
            "[1, 12000] loss: 1.485\n",
            "[2,  2000] loss: 1.418\n",
            "[2,  4000] loss: 1.388\n",
            "[2,  6000] loss: 1.366\n",
            "[2,  8000] loss: 1.325\n",
            "[2, 10000] loss: 1.318\n",
            "[2, 12000] loss: 1.288\n",
            "[3,  2000] loss: 1.218\n",
            "[3,  4000] loss: 1.205\n",
            "[3,  6000] loss: 1.212\n",
            "[3,  8000] loss: 1.213\n",
            "[3, 10000] loss: 1.211\n",
            "[3, 12000] loss: 1.170\n",
            "[4,  2000] loss: 1.104\n",
            "[4,  4000] loss: 1.112\n",
            "[4,  6000] loss: 1.101\n",
            "[4,  8000] loss: 1.114\n",
            "[4, 10000] loss: 1.109\n",
            "[4, 12000] loss: 1.111\n",
            "[5,  2000] loss: 1.020\n",
            "[5,  4000] loss: 1.017\n",
            "[5,  6000] loss: 1.066\n",
            "[5,  8000] loss: 1.039\n",
            "[5, 10000] loss: 1.060\n",
            "[5, 12000] loss: 1.034\n",
            "[6,  2000] loss: 0.961\n",
            "[6,  4000] loss: 0.995\n",
            "[6,  6000] loss: 0.983\n",
            "[6,  8000] loss: 0.999\n",
            "[6, 10000] loss: 0.992\n",
            "[6, 12000] loss: 0.972\n",
            "[7,  2000] loss: 0.924\n",
            "[7,  4000] loss: 0.906\n",
            "[7,  6000] loss: 0.950\n",
            "[7,  8000] loss: 0.944\n",
            "[7, 10000] loss: 0.950\n",
            "[7, 12000] loss: 0.970\n",
            "[8,  2000] loss: 0.863\n",
            "[8,  4000] loss: 0.895\n",
            "[8,  6000] loss: 0.902\n",
            "[8,  8000] loss: 0.889\n",
            "[8, 10000] loss: 0.920\n",
            "[8, 12000] loss: 0.923\n",
            "[9,  2000] loss: 0.802\n",
            "[9,  4000] loss: 0.852\n",
            "[9,  6000] loss: 0.889\n",
            "[9,  8000] loss: 0.883\n",
            "[9, 10000] loss: 0.887\n",
            "[9, 12000] loss: 0.891\n",
            "[10,  2000] loss: 0.785\n",
            "[10,  4000] loss: 0.819\n",
            "[10,  6000] loss: 0.826\n",
            "[10,  8000] loss: 0.865\n",
            "[10, 10000] loss: 0.866\n",
            "[10, 12000] loss: 0.843\n"
          ]
        }
      ]
    }
  ]
}